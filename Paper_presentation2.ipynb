{
  "nbformat": 4,
  "nbformat_minor": 0,
  "metadata": {
    "colab": {
      "provenance": [],
      "include_colab_link": true
    },
    "kernelspec": {
      "name": "python3",
      "display_name": "Python 3"
    },
    "language_info": {
      "name": "python"
    }
  },
  "cells": [
    {
      "cell_type": "markdown",
      "metadata": {
        "id": "view-in-github",
        "colab_type": "text"
      },
      "source": [
        "<a href=\"https://colab.research.google.com/github/Chaitanya-Kumaria/UP-Electoral-stats/blob/main/Paper_presentation2.ipynb\" target=\"_parent\"><img src=\"https://colab.research.google.com/assets/colab-badge.svg\" alt=\"Open In Colab\"/></a>"
      ]
    },
    {
      "cell_type": "code",
      "execution_count": null,
      "metadata": {
        "id": "VKcUR1abLKch"
      },
      "outputs": [],
      "source": [
        "import numpy as np\n",
        "import pandas as pd\n",
        "import matplotlib.pyplot as plt"
      ]
    },
    {
      "cell_type": "code",
      "source": [
        "df = pd.read_excel(\"Paper presentation.xlsx\",header = 1)\n",
        "df"
      ],
      "metadata": {
        "colab": {
          "base_uri": "https://localhost:8080/",
          "height": 927
        },
        "id": "jm8y5EkbLVQl",
        "outputId": "98fb1743-f8f4-452d-8d6e-e4c9702f7550"
      },
      "execution_count": null,
      "outputs": [
        {
          "output_type": "execute_result",
          "data": {
            "text/html": [
              "\n",
              "  <div id=\"df-d08328a3-af8b-462e-a9b5-bea49eac329c\">\n",
              "    <div class=\"colab-df-container\">\n",
              "      <div>\n",
              "<style scoped>\n",
              "    .dataframe tbody tr th:only-of-type {\n",
              "        vertical-align: middle;\n",
              "    }\n",
              "\n",
              "    .dataframe tbody tr th {\n",
              "        vertical-align: top;\n",
              "    }\n",
              "\n",
              "    .dataframe thead th {\n",
              "        text-align: right;\n",
              "    }\n",
              "</style>\n",
              "<table border=\"1\" class=\"dataframe\">\n",
              "  <thead>\n",
              "    <tr style=\"text-align: right;\">\n",
              "      <th></th>\n",
              "      <th>Unnamed: 0</th>\n",
              "      <th>Year</th>\n",
              "      <th>Election</th>\n",
              "      <th>Political Party</th>\n",
              "      <th>voteshare</th>\n",
              "    </tr>\n",
              "  </thead>\n",
              "  <tbody>\n",
              "    <tr>\n",
              "      <th>0</th>\n",
              "      <td>NaN</td>\n",
              "      <td>1952</td>\n",
              "      <td>Lok Sabha</td>\n",
              "      <td>INC</td>\n",
              "      <td>64.91</td>\n",
              "    </tr>\n",
              "    <tr>\n",
              "      <th>1</th>\n",
              "      <td>NaN</td>\n",
              "      <td>1952</td>\n",
              "      <td>By Election</td>\n",
              "      <td>INC</td>\n",
              "      <td>42.93</td>\n",
              "    </tr>\n",
              "    <tr>\n",
              "      <th>2</th>\n",
              "      <td>NaN</td>\n",
              "      <td>1952</td>\n",
              "      <td>By Election</td>\n",
              "      <td>PSP</td>\n",
              "      <td>55.25</td>\n",
              "    </tr>\n",
              "    <tr>\n",
              "      <th>3</th>\n",
              "      <td>NaN</td>\n",
              "      <td>1957</td>\n",
              "      <td>Lok Sabha</td>\n",
              "      <td>Independent</td>\n",
              "      <td>49.49</td>\n",
              "    </tr>\n",
              "    <tr>\n",
              "      <th>4</th>\n",
              "      <td>NaN</td>\n",
              "      <td>1962</td>\n",
              "      <td>Lok Sabha</td>\n",
              "      <td>Independent</td>\n",
              "      <td>53.21</td>\n",
              "    </tr>\n",
              "    <tr>\n",
              "      <th>5</th>\n",
              "      <td>NaN</td>\n",
              "      <td>1967</td>\n",
              "      <td>Lok Sabha</td>\n",
              "      <td>Independent</td>\n",
              "      <td>32.34</td>\n",
              "    </tr>\n",
              "    <tr>\n",
              "      <th>6</th>\n",
              "      <td>NaN</td>\n",
              "      <td>1971</td>\n",
              "      <td>Lok Sabha</td>\n",
              "      <td>Independent</td>\n",
              "      <td>60.93</td>\n",
              "    </tr>\n",
              "    <tr>\n",
              "      <th>7</th>\n",
              "      <td>NaN</td>\n",
              "      <td>1977</td>\n",
              "      <td>Lok Sabha</td>\n",
              "      <td>BLD</td>\n",
              "      <td>70.96</td>\n",
              "    </tr>\n",
              "    <tr>\n",
              "      <th>8</th>\n",
              "      <td>NaN</td>\n",
              "      <td>1980</td>\n",
              "      <td>Lok Sabha</td>\n",
              "      <td>INC</td>\n",
              "      <td>45.49</td>\n",
              "    </tr>\n",
              "    <tr>\n",
              "      <th>9</th>\n",
              "      <td>NaN</td>\n",
              "      <td>1984</td>\n",
              "      <td>Lok Sabha</td>\n",
              "      <td>INC</td>\n",
              "      <td>56.92</td>\n",
              "    </tr>\n",
              "    <tr>\n",
              "      <th>10</th>\n",
              "      <td>NaN</td>\n",
              "      <td>1985</td>\n",
              "      <td>Vidhan Sabha</td>\n",
              "      <td>INC</td>\n",
              "      <td>65.15</td>\n",
              "    </tr>\n",
              "    <tr>\n",
              "      <th>11</th>\n",
              "      <td>NaN</td>\n",
              "      <td>1989</td>\n",
              "      <td>Vidhan Sabha</td>\n",
              "      <td>JD</td>\n",
              "      <td>38.46</td>\n",
              "    </tr>\n",
              "    <tr>\n",
              "      <th>12</th>\n",
              "      <td>NaN</td>\n",
              "      <td>1989</td>\n",
              "      <td>Lok Sabha</td>\n",
              "      <td>CPI(M)</td>\n",
              "      <td>41.06</td>\n",
              "    </tr>\n",
              "    <tr>\n",
              "      <th>13</th>\n",
              "      <td>NaN</td>\n",
              "      <td>1991</td>\n",
              "      <td>Vidhan Sabha</td>\n",
              "      <td>BJP</td>\n",
              "      <td>44.60</td>\n",
              "    </tr>\n",
              "    <tr>\n",
              "      <th>14</th>\n",
              "      <td>NaN</td>\n",
              "      <td>1991</td>\n",
              "      <td>Lok Sabha</td>\n",
              "      <td>BJP</td>\n",
              "      <td>47.97</td>\n",
              "    </tr>\n",
              "    <tr>\n",
              "      <th>15</th>\n",
              "      <td>NaN</td>\n",
              "      <td>1993</td>\n",
              "      <td>Vidhan Sabha</td>\n",
              "      <td>BJP</td>\n",
              "      <td>52.19</td>\n",
              "    </tr>\n",
              "    <tr>\n",
              "      <th>16</th>\n",
              "      <td>NaN</td>\n",
              "      <td>1996</td>\n",
              "      <td>Lok Sabha</td>\n",
              "      <td>BJP</td>\n",
              "      <td>52.19</td>\n",
              "    </tr>\n",
              "    <tr>\n",
              "      <th>17</th>\n",
              "      <td>NaN</td>\n",
              "      <td>1996</td>\n",
              "      <td>Vidhan Sabha</td>\n",
              "      <td>BJP</td>\n",
              "      <td>59.51</td>\n",
              "    </tr>\n",
              "    <tr>\n",
              "      <th>18</th>\n",
              "      <td>NaN</td>\n",
              "      <td>1998</td>\n",
              "      <td>Lok Sabha</td>\n",
              "      <td>BJP</td>\n",
              "      <td>49.39</td>\n",
              "    </tr>\n",
              "    <tr>\n",
              "      <th>19</th>\n",
              "      <td>NaN</td>\n",
              "      <td>1999</td>\n",
              "      <td>Lok Sabha</td>\n",
              "      <td>INC</td>\n",
              "      <td>46.19</td>\n",
              "    </tr>\n",
              "    <tr>\n",
              "      <th>20</th>\n",
              "      <td>NaN</td>\n",
              "      <td>2002</td>\n",
              "      <td>Vidhan Sabha</td>\n",
              "      <td>BJP</td>\n",
              "      <td>45.88</td>\n",
              "    </tr>\n",
              "    <tr>\n",
              "      <th>21</th>\n",
              "      <td>NaN</td>\n",
              "      <td>2004</td>\n",
              "      <td>Lok Sabha</td>\n",
              "      <td>INC</td>\n",
              "      <td>34.12</td>\n",
              "    </tr>\n",
              "    <tr>\n",
              "      <th>22</th>\n",
              "      <td>NaN</td>\n",
              "      <td>2007</td>\n",
              "      <td>Vidhan Sabha</td>\n",
              "      <td>BJP</td>\n",
              "      <td>46.73</td>\n",
              "    </tr>\n",
              "    <tr>\n",
              "      <th>23</th>\n",
              "      <td>NaN</td>\n",
              "      <td>2009</td>\n",
              "      <td>Lok Sabha</td>\n",
              "      <td>INC</td>\n",
              "      <td>41.92</td>\n",
              "    </tr>\n",
              "    <tr>\n",
              "      <th>24</th>\n",
              "      <td>NaN</td>\n",
              "      <td>2012</td>\n",
              "      <td>Vidhan Sabha</td>\n",
              "      <td>BJP</td>\n",
              "      <td>29.48</td>\n",
              "    </tr>\n",
              "    <tr>\n",
              "      <th>25</th>\n",
              "      <td>NaN</td>\n",
              "      <td>2014</td>\n",
              "      <td>Lok Sabha</td>\n",
              "      <td>BJP</td>\n",
              "      <td>56.85</td>\n",
              "    </tr>\n",
              "    <tr>\n",
              "      <th>26</th>\n",
              "      <td>NaN</td>\n",
              "      <td>2017</td>\n",
              "      <td>Vidhan Sabha</td>\n",
              "      <td>INC</td>\n",
              "      <td>46.80</td>\n",
              "    </tr>\n",
              "    <tr>\n",
              "      <th>27</th>\n",
              "      <td>NaN</td>\n",
              "      <td>2019</td>\n",
              "      <td>Lok Sabha</td>\n",
              "      <td>BJP</td>\n",
              "      <td>55.63</td>\n",
              "    </tr>\n",
              "  </tbody>\n",
              "</table>\n",
              "</div>\n",
              "      <button class=\"colab-df-convert\" onclick=\"convertToInteractive('df-d08328a3-af8b-462e-a9b5-bea49eac329c')\"\n",
              "              title=\"Convert this dataframe to an interactive table.\"\n",
              "              style=\"display:none;\">\n",
              "        \n",
              "  <svg xmlns=\"http://www.w3.org/2000/svg\" height=\"24px\"viewBox=\"0 0 24 24\"\n",
              "       width=\"24px\">\n",
              "    <path d=\"M0 0h24v24H0V0z\" fill=\"none\"/>\n",
              "    <path d=\"M18.56 5.44l.94 2.06.94-2.06 2.06-.94-2.06-.94-.94-2.06-.94 2.06-2.06.94zm-11 1L8.5 8.5l.94-2.06 2.06-.94-2.06-.94L8.5 2.5l-.94 2.06-2.06.94zm10 10l.94 2.06.94-2.06 2.06-.94-2.06-.94-.94-2.06-.94 2.06-2.06.94z\"/><path d=\"M17.41 7.96l-1.37-1.37c-.4-.4-.92-.59-1.43-.59-.52 0-1.04.2-1.43.59L10.3 9.45l-7.72 7.72c-.78.78-.78 2.05 0 2.83L4 21.41c.39.39.9.59 1.41.59.51 0 1.02-.2 1.41-.59l7.78-7.78 2.81-2.81c.8-.78.8-2.07 0-2.86zM5.41 20L4 18.59l7.72-7.72 1.47 1.35L5.41 20z\"/>\n",
              "  </svg>\n",
              "      </button>\n",
              "      \n",
              "  <style>\n",
              "    .colab-df-container {\n",
              "      display:flex;\n",
              "      flex-wrap:wrap;\n",
              "      gap: 12px;\n",
              "    }\n",
              "\n",
              "    .colab-df-convert {\n",
              "      background-color: #E8F0FE;\n",
              "      border: none;\n",
              "      border-radius: 50%;\n",
              "      cursor: pointer;\n",
              "      display: none;\n",
              "      fill: #1967D2;\n",
              "      height: 32px;\n",
              "      padding: 0 0 0 0;\n",
              "      width: 32px;\n",
              "    }\n",
              "\n",
              "    .colab-df-convert:hover {\n",
              "      background-color: #E2EBFA;\n",
              "      box-shadow: 0px 1px 2px rgba(60, 64, 67, 0.3), 0px 1px 3px 1px rgba(60, 64, 67, 0.15);\n",
              "      fill: #174EA6;\n",
              "    }\n",
              "\n",
              "    [theme=dark] .colab-df-convert {\n",
              "      background-color: #3B4455;\n",
              "      fill: #D2E3FC;\n",
              "    }\n",
              "\n",
              "    [theme=dark] .colab-df-convert:hover {\n",
              "      background-color: #434B5C;\n",
              "      box-shadow: 0px 1px 3px 1px rgba(0, 0, 0, 0.15);\n",
              "      filter: drop-shadow(0px 1px 2px rgba(0, 0, 0, 0.3));\n",
              "      fill: #FFFFFF;\n",
              "    }\n",
              "  </style>\n",
              "\n",
              "      <script>\n",
              "        const buttonEl =\n",
              "          document.querySelector('#df-d08328a3-af8b-462e-a9b5-bea49eac329c button.colab-df-convert');\n",
              "        buttonEl.style.display =\n",
              "          google.colab.kernel.accessAllowed ? 'block' : 'none';\n",
              "\n",
              "        async function convertToInteractive(key) {\n",
              "          const element = document.querySelector('#df-d08328a3-af8b-462e-a9b5-bea49eac329c');\n",
              "          const dataTable =\n",
              "            await google.colab.kernel.invokeFunction('convertToInteractive',\n",
              "                                                     [key], {});\n",
              "          if (!dataTable) return;\n",
              "\n",
              "          const docLinkHtml = 'Like what you see? Visit the ' +\n",
              "            '<a target=\"_blank\" href=https://colab.research.google.com/notebooks/data_table.ipynb>data table notebook</a>'\n",
              "            + ' to learn more about interactive tables.';\n",
              "          element.innerHTML = '';\n",
              "          dataTable['output_type'] = 'display_data';\n",
              "          await google.colab.output.renderOutput(dataTable, element);\n",
              "          const docLink = document.createElement('div');\n",
              "          docLink.innerHTML = docLinkHtml;\n",
              "          element.appendChild(docLink);\n",
              "        }\n",
              "      </script>\n",
              "    </div>\n",
              "  </div>\n",
              "  "
            ],
            "text/plain": [
              "    Unnamed: 0  Year      Election Political Party  voteshare\n",
              "0          NaN  1952     Lok Sabha             INC      64.91\n",
              "1          NaN  1952   By Election             INC      42.93\n",
              "2          NaN  1952   By Election             PSP      55.25\n",
              "3          NaN  1957     Lok Sabha     Independent      49.49\n",
              "4          NaN  1962     Lok Sabha     Independent      53.21\n",
              "5          NaN  1967     Lok Sabha     Independent      32.34\n",
              "6          NaN  1971     Lok Sabha     Independent      60.93\n",
              "7          NaN  1977     Lok Sabha             BLD      70.96\n",
              "8          NaN  1980     Lok Sabha             INC      45.49\n",
              "9          NaN  1984     Lok Sabha             INC      56.92\n",
              "10         NaN  1985  Vidhan Sabha             INC      65.15\n",
              "11         NaN  1989  Vidhan Sabha              JD      38.46\n",
              "12         NaN  1989     Lok Sabha          CPI(M)      41.06\n",
              "13         NaN  1991  Vidhan Sabha             BJP      44.60\n",
              "14         NaN  1991     Lok Sabha             BJP      47.97\n",
              "15         NaN  1993  Vidhan Sabha             BJP      52.19\n",
              "16         NaN  1996     Lok Sabha             BJP      52.19\n",
              "17         NaN  1996  Vidhan Sabha             BJP      59.51\n",
              "18         NaN  1998     Lok Sabha             BJP      49.39\n",
              "19         NaN  1999     Lok Sabha             INC      46.19\n",
              "20         NaN  2002  Vidhan Sabha             BJP      45.88\n",
              "21         NaN  2004     Lok Sabha             INC      34.12\n",
              "22         NaN  2007  Vidhan Sabha             BJP      46.73\n",
              "23         NaN  2009     Lok Sabha             INC      41.92\n",
              "24         NaN  2012  Vidhan Sabha             BJP      29.48\n",
              "25         NaN  2014     Lok Sabha             BJP      56.85\n",
              "26         NaN  2017  Vidhan Sabha             INC      46.80\n",
              "27         NaN  2019     Lok Sabha             BJP      55.63"
            ]
          },
          "metadata": {},
          "execution_count": 2
        }
      ]
    },
    {
      "cell_type": "code",
      "source": [
        "plt.hist(df[\"voteshare\"])\n",
        "plt.show()"
      ],
      "metadata": {
        "colab": {
          "base_uri": "https://localhost:8080/",
          "height": 265
        },
        "id": "FuLwH8zgLdIg",
        "outputId": "1881c430-572c-4eee-a479-54aa3ca28ccc"
      },
      "execution_count": null,
      "outputs": [
        {
          "output_type": "display_data",
          "data": {
            "image/png": "[encoded data removed]",
            "text/plain": [
              "<Figure size 432x288 with 1 Axes>"
            ]
          },
          "metadata": {
            "needs_background": "light"
          }
        }
      ]
    },
    {
      "cell_type": "code",
      "source": [
        "df.describe()"
      ],
      "metadata": {
        "colab": {
          "base_uri": "https://localhost:8080/",
          "height": 300
        },
        "id": "p185ypGdLl8u",
        "outputId": "0f283914-17e4-450a-d6f7-9f5f5a2b512e"
      },
      "execution_count": null,
      "outputs": [
        {
          "output_type": "execute_result",
          "data": {
            "text/html": [
              "\n",
              "  <div id=\"df-9e3fe754-5466-4e56-98db-d454ca737892\">\n",
              "    <div class=\"colab-df-container\">\n",
              "      <div>\n",
              "<style scoped>\n",
              "    .dataframe tbody tr th:only-of-type {\n",
              "        vertical-align: middle;\n",
              "    }\n",
              "\n",
              "    .dataframe tbody tr th {\n",
              "        vertical-align: top;\n",
              "    }\n",
              "\n",
              "    .dataframe thead th {\n",
              "        text-align: right;\n",
              "    }\n",
              "</style>\n",
              "<table border=\"1\" class=\"dataframe\">\n",
              "  <thead>\n",
              "    <tr style=\"text-align: right;\">\n",
              "      <th></th>\n",
              "      <th>Unnamed: 0</th>\n",
              "      <th>Year</th>\n",
              "      <th>voteshare</th>\n",
              "    </tr>\n",
              "  </thead>\n",
              "  <tbody>\n",
              "    <tr>\n",
              "      <th>count</th>\n",
              "      <td>0.0</td>\n",
              "      <td>28.000000</td>\n",
              "      <td>28.000000</td>\n",
              "    </tr>\n",
              "    <tr>\n",
              "      <th>mean</th>\n",
              "      <td>NaN</td>\n",
              "      <td>1988.035714</td>\n",
              "      <td>49.519643</td>\n",
              "    </tr>\n",
              "    <tr>\n",
              "      <th>std</th>\n",
              "      <td>NaN</td>\n",
              "      <td>20.336943</td>\n",
              "      <td>9.979098</td>\n",
              "    </tr>\n",
              "    <tr>\n",
              "      <th>min</th>\n",
              "      <td>NaN</td>\n",
              "      <td>1952.000000</td>\n",
              "      <td>29.480000</td>\n",
              "    </tr>\n",
              "    <tr>\n",
              "      <th>25%</th>\n",
              "      <td>NaN</td>\n",
              "      <td>1975.500000</td>\n",
              "      <td>44.182500</td>\n",
              "    </tr>\n",
              "    <tr>\n",
              "      <th>50%</th>\n",
              "      <td>NaN</td>\n",
              "      <td>1991.000000</td>\n",
              "      <td>48.680000</td>\n",
              "    </tr>\n",
              "    <tr>\n",
              "      <th>75%</th>\n",
              "      <td>NaN</td>\n",
              "      <td>2002.500000</td>\n",
              "      <td>55.935000</td>\n",
              "    </tr>\n",
              "    <tr>\n",
              "      <th>max</th>\n",
              "      <td>NaN</td>\n",
              "      <td>2019.000000</td>\n",
              "      <td>70.960000</td>\n",
              "    </tr>\n",
              "  </tbody>\n",
              "</table>\n",
              "</div>\n",
              "      <button class=\"colab-df-convert\" onclick=\"convertToInteractive('df-9e3fe754-5466-4e56-98db-d454ca737892')\"\n",
              "              title=\"Convert this dataframe to an interactive table.\"\n",
              "              style=\"display:none;\">\n",
              "        \n",
              "  <svg xmlns=\"http://www.w3.org/2000/svg\" height=\"24px\"viewBox=\"0 0 24 24\"\n",
              "       width=\"24px\">\n",
              "    <path d=\"M0 0h24v24H0V0z\" fill=\"none\"/>\n",
              "    <path d=\"M18.56 5.44l.94 2.06.94-2.06 2.06-.94-2.06-.94-.94-2.06-.94 2.06-2.06.94zm-11 1L8.5 8.5l.94-2.06 2.06-.94-2.06-.94L8.5 2.5l-.94 2.06-2.06.94zm10 10l.94 2.06.94-2.06 2.06-.94-2.06-.94-.94-2.06-.94 2.06-2.06.94z\"/><path d=\"M17.41 7.96l-1.37-1.37c-.4-.4-.92-.59-1.43-.59-.52 0-1.04.2-1.43.59L10.3 9.45l-7.72 7.72c-.78.78-.78 2.05 0 2.83L4 21.41c.39.39.9.59 1.41.59.51 0 1.02-.2 1.41-.59l7.78-7.78 2.81-2.81c.8-.78.8-2.07 0-2.86zM5.41 20L4 18.59l7.72-7.72 1.47 1.35L5.41 20z\"/>\n",
              "  </svg>\n",
              "      </button>\n",
              "      \n",
              "  <style>\n",
              "    .colab-df-container {\n",
              "      display:flex;\n",
              "      flex-wrap:wrap;\n",
              "      gap: 12px;\n",
              "    }\n",
              "\n",
              "    .colab-df-convert {\n",
              "      background-color: #E8F0FE;\n",
              "      border: none;\n",
              "      border-radius: 50%;\n",
              "      cursor: pointer;\n",
              "      display: none;\n",
              "      fill: #1967D2;\n",
              "      height: 32px;\n",
              "      padding: 0 0 0 0;\n",
              "      width: 32px;\n",
              "    }\n",
              "\n",
              "    .colab-df-convert:hover {\n",
              "      background-color: #E2EBFA;\n",
              "      box-shadow: 0px 1px 2px rgba(60, 64, 67, 0.3), 0px 1px 3px 1px rgba(60, 64, 67, 0.15);\n",
              "      fill: #174EA6;\n",
              "    }\n",
              "\n",
              "    [theme=dark] .colab-df-convert {\n",
              "      background-color: #3B4455;\n",
              "      fill: #D2E3FC;\n",
              "    }\n",
              "\n",
              "    [theme=dark] .colab-df-convert:hover {\n",
              "      background-color: #434B5C;\n",
              "      box-shadow: 0px 1px 3px 1px rgba(0, 0, 0, 0.15);\n",
              "      filter: drop-shadow(0px 1px 2px rgba(0, 0, 0, 0.3));\n",
              "      fill: #FFFFFF;\n",
              "    }\n",
              "  </style>\n",
              "\n",
              "      <script>\n",
              "        const buttonEl =\n",
              "          document.querySelector('#df-9e3fe754-5466-4e56-98db-d454ca737892 button.colab-df-convert');\n",
              "        buttonEl.style.display =\n",
              "          google.colab.kernel.accessAllowed ? 'block' : 'none';\n",
              "\n",
              "        async function convertToInteractive(key) {\n",
              "          const element = document.querySelector('#df-9e3fe754-5466-4e56-98db-d454ca737892');\n",
              "          const dataTable =\n",
              "            await google.colab.kernel.invokeFunction('convertToInteractive',\n",
              "                                                     [key], {});\n",
              "          if (!dataTable) return;\n",
              "\n",
              "          const docLinkHtml = 'Like what you see? Visit the ' +\n",
              "            '<a target=\"_blank\" href=https://colab.research.google.com/notebooks/data_table.ipynb>data table notebook</a>'\n",
              "            + ' to learn more about interactive tables.';\n",
              "          element.innerHTML = '';\n",
              "          dataTable['output_type'] = 'display_data';\n",
              "          await google.colab.output.renderOutput(dataTable, element);\n",
              "          const docLink = document.createElement('div');\n",
              "          docLink.innerHTML = docLinkHtml;\n",
              "          element.appendChild(docLink);\n",
              "        }\n",
              "      </script>\n",
              "    </div>\n",
              "  </div>\n",
              "  "
            ],
            "text/plain": [
              "       Unnamed: 0         Year  voteshare\n",
              "count         0.0    28.000000  28.000000\n",
              "mean          NaN  1988.035714  49.519643\n",
              "std           NaN    20.336943   9.979098\n",
              "min           NaN  1952.000000  29.480000\n",
              "25%           NaN  1975.500000  44.182500\n",
              "50%           NaN  1991.000000  48.680000\n",
              "75%           NaN  2002.500000  55.935000\n",
              "max           NaN  2019.000000  70.960000"
            ]
          },
          "metadata": {},
          "execution_count": 5
        }
      ]
    },
    {
      "cell_type": "code",
      "source": [
        "stats_label = [\"mean_observed\",\"variance observed\",\"skew observed\",\"kurt observed\"]\n",
        "stats_value = [round(df['voteshare'].mean(),2),round(df['voteshare'].var(),2),round(df['voteshare'].skew(),2),round(df['voteshare'].kurt(),2)]\n",
        "print(set(zip(stats_label,stats_value)))"
      ],
      "metadata": {
        "colab": {
          "base_uri": "https://localhost:8080/"
        },
        "id": "H9qSxGhNLtVJ",
        "outputId": "d2d551bb-211c-410e-9e4b-e7425af656f6"
      },
      "execution_count": null,
      "outputs": [
        {
          "output_type": "stream",
          "name": "stdout",
          "text": [
            "{('mean_observed', 49.52), ('variance observed', 99.58), ('kurt observed', -0.13), ('skew observed', 0.05)}\n"
          ]
        }
      ]
    },
    {
      "cell_type": "code",
      "source": [
        "import statsmodels.api as sm\n",
        "import scipy.stats as stats"
      ],
      "metadata": {
        "colab": {
          "base_uri": "https://localhost:8080/"
        },
        "id": "8inLAbDhL-_H",
        "outputId": "92c3e578-1376-4ef9-e026-7c72e0386572"
      },
      "execution_count": null,
      "outputs": [
        {
          "output_type": "stream",
          "name": "stderr",
          "text": [
            "/usr/local/lib/python3.7/dist-packages/statsmodels/tools/_testing.py:19: FutureWarning: pandas.util.testing is deprecated. Use the functions in the public API at pandas.testing instead.\n",
            "  import pandas.util.testing as tm\n"
          ]
        }
      ]
    },
    {
      "cell_type": "code",
      "source": [
        "stats.probplot(df[\"voteshare\"],dist = \"norm\",plot = plt)"
      ],
      "metadata": {
        "colab": {
          "base_uri": "https://localhost:8080/",
          "height": 486
        },
        "id": "oyhy6rPYMAle",
        "outputId": "1b23c72b-d82f-45a8-a4a6-65892e3f7ae4"
      },
      "execution_count": null,
      "outputs": [
        {
          "output_type": "execute_result",
          "data": {
            "text/plain": [
              "((array([-1.96943887, -1.56054088, -1.31312287, -1.12721645, -0.97379083,\n",
              "         -0.84042553, -0.72056163, -0.61026134, -0.50693827, -0.40877122,\n",
              "         -0.31440035, -0.2227547 , -0.13294629, -0.04419962,  0.04419962,\n",
              "          0.13294629,  0.2227547 ,  0.31440035,  0.40877122,  0.50693827,\n",
              "          0.61026134,  0.72056163,  0.84042553,  0.97379083,  1.12721645,\n",
              "          1.31312287,  1.56054088,  1.96943887]),\n",
              "  array([29.48, 32.34, 34.12, 38.46, 41.06, 41.92, 42.93, 44.6 , 45.49,\n",
              "         45.88, 46.19, 46.73, 46.8 , 47.97, 49.39, 49.49, 52.19, 52.19,\n",
              "         53.21, 55.25, 55.63, 56.85, 56.92, 59.51, 60.93, 64.91, 65.15,\n",
              "         70.96])),\n",
              " (10.341804820962857, 49.51964285714286, 0.9951196389120596))"
            ]
          },
          "metadata": {},
          "execution_count": 9
        },
        {
          "output_type": "display_data",
          "data": {
            "image/png": "[encoded data removed]",
            "text/plain": [
              "<Figure size 432x288 with 1 Axes>"
            ]
          },
          "metadata": {
            "needs_background": "light"
          }
        }
      ]
    },
    {
      "cell_type": "code",
      "source": [
        "n = 1/7"
      ],
      "metadata": {
        "id": "nTAeSQ3JMJo2"
      },
      "execution_count": null,
      "outputs": []
    },
    {
      "cell_type": "code",
      "source": [
        "import scipy.stats\n",
        "for i in range(1,7):\n",
        "  prob_intervals = [scipy.stats.norm.ppf(i*n,df['voteshare'].mean(),df['voteshare'].std())]\n",
        "  print(prob_intervals)"
      ],
      "metadata": {
        "colab": {
          "base_uri": "https://localhost:8080/"
        },
        "id": "CzYikyrNMtmi",
        "outputId": "7d240f75-f0fb-4511-c337-28aeffd19812"
      },
      "execution_count": null,
      "outputs": [
        {
          "output_type": "stream",
          "name": "stdout",
          "text": [
            "[38.86625241270186]\n",
            "[43.87198433082856]\n",
            "[47.723281851160564]\n",
            "[51.31600386312515]\n",
            "[55.16730138345714]\n",
            "[60.17303330158385]\n"
          ]
        }
      ]
    },
    {
      "cell_type": "code",
      "source": [
        "expec_freq = [4,4,4,4,4,4,4]\n",
        "obs_freq = [4,3,6,3,3,5,4]"
      ],
      "metadata": {
        "id": "V1OMDsmYNyRN"
      },
      "execution_count": null,
      "outputs": []
    },
    {
      "cell_type": "code",
      "source": [
        "from scipy.stats import chisquare\n",
        "chisquare(obs_freq,expec_freq)"
      ],
      "metadata": {
        "colab": {
          "base_uri": "https://localhost:8080/"
        },
        "id": "aW5r05e3Q-0N",
        "outputId": "5854558a-1e5d-47f1-afb4-f7d10e2dc183"
      },
      "execution_count": null,
      "outputs": [
        {
          "output_type": "execute_result",
          "data": {
            "text/plain": [
              "Power_divergenceResult(statistic=2.0, pvalue=0.9196986029286058)"
            ]
          },
          "metadata": {},
          "execution_count": 15
        }
      ]
    },
    {
      "cell_type": "code",
      "source": [
        "from scipy.stats import chi2\n",
        "chi2.ppf(0.9,6)"
      ],
      "metadata": {
        "colab": {
          "base_uri": "https://localhost:8080/"
        },
        "id": "RkNSUFRvRShE",
        "outputId": "b85146cf-1479-4daa-cd74-fbabae45d00d"
      },
      "execution_count": null,
      "outputs": [
        {
          "output_type": "execute_result",
          "data": {
            "text/plain": [
              "10.644640675668422"
            ]
          },
          "metadata": {},
          "execution_count": 16
        }
      ]
    },
    {
      "cell_type": "markdown",
      "source": [
        "We can Conclude that winners on this seat follow Normal distribution. and there is almost 92% confidence that a winnere in Kanpur will get between (29.4,70.9)\n"
      ],
      "metadata": {
        "id": "Jw6klcPRRi3f"
      }
    }
  ]
}